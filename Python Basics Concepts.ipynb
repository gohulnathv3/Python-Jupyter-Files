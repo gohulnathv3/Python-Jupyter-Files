{
 "cells": [
  {
   "cell_type": "markdown",
   "id": "9eb2ca77",
   "metadata": {},
   "source": [
    "# Python Basics"
   ]
  },
  {
   "cell_type": "markdown",
   "id": "3a9b5018",
   "metadata": {},
   "source": [
    "## Variables"
   ]
  },
  {
   "cell_type": "code",
   "execution_count": 3,
   "id": "5f12152c",
   "metadata": {},
   "outputs": [
    {
     "name": "stdout",
     "output_type": "stream",
     "text": [
      "100\n",
      "Gohul\n",
      "<class 'int'>\n",
      "<class 'str'>\n"
     ]
    }
   ],
   "source": [
    "number = 100\n",
    "character = \"Gohul\"\n",
    "print(number)\n",
    "print(character)\n",
    "print(type(number))\n",
    "print(type(character))"
   ]
  },
  {
   "cell_type": "code",
   "execution_count": 8,
   "id": "9273324a",
   "metadata": {},
   "outputs": [
    {
     "name": "stdout",
     "output_type": "stream",
     "text": [
      "20\n",
      "20\n",
      "20\n",
      "<class 'int'>\n",
      "<class 'str'>\n",
      "<class 'float'>\n"
     ]
    }
   ],
   "source": [
    "#generally variables are used to store the values such as integer, string and float.\n",
    "a=b=c=20\n",
    "d=\"Gohul\"\n",
    "e=4.5\n",
    "print(a)\n",
    "print(b)\n",
    "print(c)\n",
    "print(type(a))\n",
    "print(type(d))\n",
    "print(type(e))"
   ]
  },
  {
   "cell_type": "code",
   "execution_count": 11,
   "id": "7077d3ef",
   "metadata": {},
   "outputs": [
    {
     "name": "stdout",
     "output_type": "stream",
     "text": [
      "Gohul\n",
      "100\n",
      "3.0\n",
      "<class 'str'>\n",
      "<class 'int'>\n",
      "<class 'float'>\n"
     ]
    }
   ],
   "source": [
    "#casting the variables.\n",
    "x=str(\"Gohul\") #this will be 'Gohul Nath V'\n",
    "y=int(100) #this will be 100\n",
    "z=float(3) #this will be 3\n",
    "print(x)\n",
    "print(y)\n",
    "print(z)\n",
    "print(type(x))\n",
    "print(type(y))\n",
    "print(type(z))"
   ]
  },
  {
   "cell_type": "code",
   "execution_count": 13,
   "id": "ae5cbdbb",
   "metadata": {},
   "outputs": [
    {
     "name": "stdout",
     "output_type": "stream",
     "text": [
      "100\n",
      "102\n",
      "202\n"
     ]
    }
   ],
   "source": [
    "#variables are case sensitive\n",
    "a = 100\n",
    "A = 102\n",
    "print(a)\n",
    "print(A)\n",
    "print(a+A)"
   ]
  },
  {
   "cell_type": "code",
   "execution_count": null,
   "id": "64013b74",
   "metadata": {},
   "outputs": [],
   "source": []
  }
 ],
 "metadata": {
  "kernelspec": {
   "display_name": "Python 3 (ipykernel)",
   "language": "python",
   "name": "python3"
  },
  "language_info": {
   "codemirror_mode": {
    "name": "ipython",
    "version": 3
   },
   "file_extension": ".py",
   "mimetype": "text/x-python",
   "name": "python",
   "nbconvert_exporter": "python",
   "pygments_lexer": "ipython3",
   "version": "3.9.7"
  }
 },
 "nbformat": 4,
 "nbformat_minor": 5
}
