{
 "cells": [
  {
   "cell_type": "markdown",
   "id": "fdd48b81",
   "metadata": {},
   "source": [
    "# Python Basics"
   ]
  },
  {
   "cell_type": "markdown",
   "id": "72e23959",
   "metadata": {},
   "source": [
    "## Variables"
   ]
  },
  {
   "cell_type": "code",
   "execution_count": 7,
   "id": "42b4babe",
   "metadata": {},
   "outputs": [
    {
     "name": "stdout",
     "output_type": "stream",
     "text": [
      "101\n",
      "102\n",
      "103\n",
      "100\n",
      "Gohul\n",
      "<class 'int'>\n",
      "<class 'str'>\n"
     ]
    }
   ],
   "source": [
    "number = 100\n",
    "Number = 101\n",
    "_number= 102\n",
    "num_ber = 103\n",
    "\n",
    "print(Number)\n",
    "print(_number)\n",
    "print(num_ber)\n",
    "\n",
    "character = \"Gohul\"\n",
    "print(number)\n",
    "\n",
    "print(character)\n",
    "print(type(number))\n",
    "print(type(character))"
   ]
  },
  {
   "cell_type": "code",
   "execution_count": 8,
   "id": "dfbfb11c",
   "metadata": {},
   "outputs": [
    {
     "name": "stdout",
     "output_type": "stream",
     "text": [
      "20\n",
      "20\n",
      "20\n",
      "<class 'int'>\n",
      "<class 'str'>\n",
      "<class 'float'>\n"
     ]
    }
   ],
   "source": [
    "#generally variables are used to store the values such as integer, string and float.\n",
    "a=b=c=20 #multiple values to variables in one line.\n",
    "d=\"Gohul\"\n",
    "e=4.5\n",
    "print(a)\n",
    "print(b)\n",
    "print(c)\n",
    "print(type(a))\n",
    "print(type(d))\n",
    "print(type(e))"
   ]
  },
  {
   "cell_type": "code",
   "execution_count": 11,
   "id": "0d828325",
   "metadata": {},
   "outputs": [
    {
     "name": "stdout",
     "output_type": "stream",
     "text": [
      "Gohul\n",
      "100\n",
      "3.0\n",
      "<class 'str'>\n",
      "<class 'int'>\n",
      "<class 'float'>\n"
     ]
    }
   ],
   "source": [
    "#casting the variables.\n",
    "x=str(\"Gohul\") #this will be 'Gohul'\n",
    "y=int(100) #this will be 100\n",
    "z=float(3) #this will be 3\n",
    "print(x)\n",
    "print(y)\n",
    "print(z)\n",
    "print(type(x))\n",
    "print(type(y))\n",
    "print(type(z))"
   ]
  },
  {
   "cell_type": "code",
   "execution_count": 13,
   "id": "46b4e051",
   "metadata": {},
   "outputs": [
    {
     "name": "stdout",
     "output_type": "stream",
     "text": [
      "100\n",
      "102\n",
      "202\n"
     ]
    }
   ],
   "source": [
    "#variables are case sensitive\n",
    "a = 100\n",
    "A = 102\n",
    "print(a)\n",
    "print(A)\n",
    "print(a+A)"
   ]
  },
  {
   "cell_type": "code",
   "execution_count": 17,
   "id": "718f3e84",
   "metadata": {},
   "outputs": [
    {
     "name": "stdout",
     "output_type": "stream",
     "text": [
      "orange\n",
      "mango\n",
      "grapes\n"
     ]
    }
   ],
   "source": [
    "#unpacking the values in variables. simply unpack collections.\n",
    "fruits = [\"orange\",\"mango\",\"grapes\"] #list fruits[0] - orange..\n",
    "x,y,z = fruits\n",
    "print(x)\n",
    "print(y)\n",
    "print(z)"
   ]
  },
  {
   "cell_type": "code",
   "execution_count": 25,
   "id": "d14721a3",
   "metadata": {},
   "outputs": [
    {
     "name": "stdout",
     "output_type": "stream",
     "text": [
      "He is doing awesome work\n",
      "He is doing awesome\n",
      "Python is awesome\n"
     ]
    }
   ],
   "source": [
    "x = 'awesome'\n",
    "print('He is doing',x,'work')\n",
    "print(\"He is doing \"+x)#use the + character to add a variable to another var.\n",
    "print(\"Python is\",x)"
   ]
  },
  {
   "cell_type": "code",
   "execution_count": 8,
   "id": "62b35386",
   "metadata": {},
   "outputs": [
    {
     "name": "stdout",
     "output_type": "stream",
     "text": [
      "35\n"
     ]
    }
   ],
   "source": [
    "x = 15\n",
    "y = 20\n",
    "print(x+y)"
   ]
  },
  {
   "cell_type": "markdown",
   "id": "640280cd",
   "metadata": {},
   "source": [
    "### Global variables"
   ]
  },
  {
   "cell_type": "code",
   "execution_count": 23,
   "id": "57d347f4",
   "metadata": {},
   "outputs": [
    {
     "name": "stdout",
     "output_type": "stream",
     "text": [
      "Python is one of the easiest ones\n",
      "we can also global variable outside the function for eg: easiest ones\n"
     ]
    }
   ],
   "source": [
    "global_variable = \"easiest ones\" #Create a variable outside of a function, and use it inside the function\n",
    "def myfunc():\n",
    "    print(\"Python is one of the \"+global_variable)\n",
    "myfunc()\n",
    "print(\"we can also global variable outside the function for eg: \"+global_variable)"
   ]
  },
  {
   "cell_type": "code",
   "execution_count": 35,
   "id": "24891f00",
   "metadata": {},
   "outputs": [
    {
     "name": "stdout",
     "output_type": "stream",
     "text": [
      "Python is fantastic\n",
      "Python is awesome\n"
     ]
    }
   ],
   "source": [
    "x = \"awesome\"\n",
    "\n",
    "def myfunc():\n",
    "  x = \"fantastic\" #Create a variable inside a function, with the same name as the global variable\n",
    "  print(\"Python is \" + x) \n",
    "\n",
    "myfunc()\n",
    "\n",
    "print(\"Python is \" + x)"
   ]
  },
  {
   "cell_type": "markdown",
   "id": "3f8eeb37",
   "metadata": {},
   "source": [
    "## Data Types"
   ]
  },
  {
   "cell_type": "markdown",
   "id": "7dd16ff3",
   "metadata": {},
   "source": [
    "#### Built-in Data Types\n",
    "In programming, data type is an important concept.\n",
    "\n",
    "Variables can store data of different types, and different types can do different things.\n",
    "\n",
    "Python has the following data types built-in by default, in these categories:\n",
    "\n",
    "Text Type:\tstr\n",
    "Numeric Types:\tint, float, complex\n",
    "Sequence Types:\tlist, tuple, range\n",
    "Mapping Type:\tdict\n",
    "Set Types:\tset, frozenset\n",
    "Boolean Type:\tbool\n",
    "Binary Types:\tbytes, bytearray, memoryview"
   ]
  },
  {
   "cell_type": "code",
   "execution_count": 46,
   "id": "0e1d2e6a",
   "metadata": {},
   "outputs": [
    {
     "name": "stdout",
     "output_type": "stream",
     "text": [
      "<class 'str'>\n",
      "<class 'int'>\n",
      "<class 'float'>\n",
      "<class 'complex'>\n",
      "<class 'list'>\n",
      "<class 'tuple'>\n",
      "<class 'range'>\n",
      "<class 'dict'>\n",
      "<class 'set'>\n",
      "<class 'frozenset'>\n",
      "<class 'bool'>\n",
      "<class 'bytes'>\n",
      "<class 'bytearray'>\n",
      "<class 'memoryview'>\n",
      "bytearray(b'\\x00\\x00')\n",
      "<memory at 0x000002369B6F9400>\n"
     ]
    }
   ],
   "source": [
    "#getting the data type\n",
    "x = \"String Type\"\n",
    "y = 20\n",
    "z = 20.5 #Float can also be scientific numbers with an \"e\" to indicate the power of 10.\n",
    "a = 1+3j\n",
    "b = [\"list 1\", \"list 2\", \"list 3\"]\n",
    "c = (\"tupe 1\",\"tuple 2\",\"tuple 3\")\n",
    "d = range(6)\n",
    "e = {\"name\":\"Gohul\", \"age\":23}\n",
    "f = {\"Hello\",\"how\",\"are\",\"you ?\"}\n",
    "g = frozenset({\"Great\",\"Learning\",\"Curve\"})\n",
    "h =  True\n",
    "i = b\"bytes\"\n",
    "j = bytearray(2)\n",
    "k = memoryview(bytes(2))\n",
    "print(type(x))\n",
    "print(type(y))\n",
    "print(type(z))\n",
    "print(type(a))\n",
    "print(type(b))\n",
    "print(type(c))\n",
    "print(type(d))\n",
    "print(type(e))\n",
    "print(type(f))\n",
    "print(type(g))\n",
    "print(type(h))\n",
    "print(type(i))\n",
    "print(type(j))\n",
    "print(type(k))"
   ]
  },
  {
   "cell_type": "code",
   "execution_count": 48,
   "id": "53af687d",
   "metadata": {},
   "outputs": [
    {
     "name": "stdout",
     "output_type": "stream",
     "text": [
      "30\n",
      "Gohul\n",
      "<class 'int'>\n",
      "<class 'str'>\n"
     ]
    }
   ],
   "source": [
    "#setting the specific data type\n",
    "x = int(30)\n",
    "y=str(\"Gohul\")\n",
    "print(x)\n",
    "print(y)\n",
    "print(type(x))\n",
    "print(type(y))"
   ]
  },
  {
   "cell_type": "code",
   "execution_count": 11,
   "id": "4aa723c8",
   "metadata": {},
   "outputs": [
    {
     "name": "stdout",
     "output_type": "stream",
     "text": [
      "<class 'int'>\n",
      "<class 'float'>\n",
      "<class 'int'>\n",
      "<class 'str'>\n",
      "<class 'int'>\n"
     ]
    }
   ],
   "source": [
    "#we can convert data types.\n",
    "x = int(2.4)\n",
    "y = 2.14\n",
    "z=int(y)\n",
    "r = str(x)\n",
    "print(type(x))\n",
    "print(type(y))\n",
    "print(type(z))\n",
    "print(type(r))\n",
    "a = 2\n",
    "print(type(a))"
   ]
  },
  {
   "cell_type": "markdown",
   "id": "aa5462e0",
   "metadata": {},
   "source": [
    "#### Random Number\n",
    "Python does not have a random() function to make a random number, but Python has a built-in module called random that can be used to make random numbers:"
   ]
  },
  {
   "cell_type": "code",
   "execution_count": 66,
   "id": "909c31ee",
   "metadata": {},
   "outputs": [
    {
     "name": "stdout",
     "output_type": "stream",
     "text": [
      "3\n"
     ]
    }
   ],
   "source": [
    "import random\n",
    "print(random.randrange(1,5))"
   ]
  },
  {
   "cell_type": "code",
   "execution_count": 22,
   "id": "8bbac548",
   "metadata": {},
   "outputs": [
    {
     "name": "stdout",
     "output_type": "stream",
     "text": [
      "Enter 1 if you want 4 digit OTP for user login authentication\n",
      "Enter 2 if you want 6 digit OTP for user login authentication\n",
      "Enter 1 or 2: 1\n",
      "4892\n"
     ]
    }
   ],
   "source": [
    "#excercise generate otp using random module\n",
    "#To generate OTP we can use choices() or randint() method from random module.\n",
    "import random\n",
    "\n",
    "numbers='1234567890'\n",
    "\n",
    "print(\"Enter 1 if you want 4 digit OTP for user login authentication\")\n",
    "print(\"Enter 2 if you want 6 digit OTP for user login authentication\")\n",
    "\n",
    "digits = int(input(\"Enter 1 or 2: \"))\n",
    "\n",
    "if digits == 1:\n",
    "    ot = random.choices(numbers, k = 4)\n",
    "    otp = ''.join(ot)\n",
    "    print(otp)\n",
    "elif digits == 2:\n",
    "    ot = random.choices(numbers, k = 6)\n",
    "    otp =''.join(ot)\n",
    "    print(otp)\n",
    "else:\n",
    "    print(\"You can enter only 1 or 2\")\n",
    "    "
   ]
  },
  {
   "cell_type": "markdown",
   "id": "67016664",
   "metadata": {},
   "source": [
    "#### Python Strings\n",
    "Strings are Arrays\n",
    "Like many other popular programming languages, strings in Python are arrays of bytes representing unicode characters.\n",
    "\n",
    "However, Python does not have a character data type, a single character is simply a string with a length of 1.\n",
    "\n",
    "Square brackets can be used to access elements of the string."
   ]
  },
  {
   "cell_type": "code",
   "execution_count": 78,
   "id": "7275c04a",
   "metadata": {},
   "outputs": [
    {
     "name": "stdout",
     "output_type": "stream",
     "text": [
      "G o h u l\n",
      "o\n",
      "h\n",
      "u\n",
      "l\n",
      " \n",
      "N\n",
      "a\n",
      "t\n",
      "h\n",
      " \n",
      "V\n"
     ]
    }
   ],
   "source": [
    "b = \"Gohul Nath V\"\n",
    "print(b[0],b[1],b[2],b[3],b[4])\n",
    "print(b[1])\n",
    "print(b[2])\n",
    "print(b[3])\n",
    "print(b[4])\n",
    "print(b[5])\n",
    "print(b[6])\n",
    "print(b[7])\n",
    "print(b[8])\n",
    "print(b[9])\n",
    "print(b[10])\n",
    "print(b[11])"
   ]
  },
  {
   "cell_type": "code",
   "execution_count": 86,
   "id": "2e14b165",
   "metadata": {},
   "outputs": [
    {
     "name": "stdout",
     "output_type": "stream",
     "text": [
      "H\n",
      "i\n",
      " \n",
      "G\n",
      "u\n",
      "y\n",
      "s\n"
     ]
    }
   ],
   "source": [
    "#Looping Through a String\n",
    "for x in \"Hi Guys\":\n",
    "    print(x)"
   ]
  },
  {
   "cell_type": "code",
   "execution_count": 92,
   "id": "ca88c23b",
   "metadata": {},
   "outputs": [
    {
     "name": "stdout",
     "output_type": "stream",
     "text": [
      "False\n",
      "Yes, 'easy' is found in your text\n",
      "It is easyyy\n"
     ]
    }
   ],
   "source": [
    "#check string\n",
    "txt = \"Python is easy to learn!\"\n",
    "print(\"free\" in txt)\n",
    "#print only if \"easy\" is\n",
    "if \"easy\" in txt:\n",
    "    print(\"Yes, 'easy' is found in your text\")\n",
    "#To check if a certain phrase or character is NOT present in a string, we can use the keyword not in.\n",
    "if \"hard\" not in txt:\n",
    "    print(\"It is easyyy\")"
   ]
  },
  {
   "cell_type": "markdown",
   "id": "95d60b8d",
   "metadata": {},
   "source": [
    "### String operations"
   ]
  },
  {
   "cell_type": "markdown",
   "id": "db821daf",
   "metadata": {},
   "source": [
    "#### Slicing\n",
    "You can return a range of characters by using the slice syntax.\n",
    "\n",
    "Specify the start index and the end index, separated by a colon, to return a part of the string.\n",
    "Note: The first character has index 0."
   ]
  },
  {
   "cell_type": "code",
   "execution_count": 111,
   "id": "93a1316e",
   "metadata": {},
   "outputs": [
    {
     "name": "stdout",
     "output_type": "stream",
     "text": [
      "Gohul\n",
      "GohulNathV\n",
      "GohulNathV\n",
      "Gohul\n",
      "hulNathV\n",
      "GohulNath\n",
      "GohulNat\n",
      "V\n",
      "<class 'str'>\n"
     ]
    }
   ],
   "source": [
    "#Get the characters from position 0 to position 6 (not included):\n",
    "name = 'GohulNathV'\n",
    "print(name[0:5])\n",
    "print(name[:])\n",
    "print(name[0:])\n",
    "print(name[:5]) #slice from start\n",
    "print(name[2:]) #get from position 2\n",
    "print(name[:-1])\n",
    "print(name[:-2])\n",
    "print(name[-1])\n",
    "print(type(name))"
   ]
  },
  {
   "cell_type": "code",
   "execution_count": 127,
   "id": "84ca93bb",
   "metadata": {},
   "outputs": [
    {
     "name": "stdout",
     "output_type": "stream",
     "text": [
      " GOHUL NATH V \n",
      " gohul nath v \n",
      " Gohul Nath V \n",
      "14\n",
      "Gohul Nath V\n",
      "12\n",
      "Gokul nath v\n",
      "Gohul Nath V\n"
     ]
    }
   ],
   "source": [
    "#String Modifications.\n",
    "a = \" Gohul Nath V \"\n",
    "print(a.upper())\n",
    "print(a.lower())\n",
    "\n",
    "print(a)\n",
    "print(len(a))\n",
    "\n",
    "print(a.strip()) #to remove whitespace\n",
    "a= a.strip()\n",
    "print(len(a))\n",
    "\n",
    "#replace string with another\n",
    "a= \"Gokul nath v\"\n",
    "print(a)\n",
    "a=a.replace(\"k\",\"h\")\n",
    "a=a.replace(\"n\",\"N\")\n",
    "a=a.replace(\"v\",\"V\")\n",
    "print(a)\n"
   ]
  },
  {
   "cell_type": "code",
   "execution_count": 129,
   "id": "890db901",
   "metadata": {},
   "outputs": [
    {
     "name": "stdout",
     "output_type": "stream",
     "text": [
      "['Gohul Nath v']\n"
     ]
    }
   ],
   "source": [
    "#split string\n",
    "a = 'Gohul Nath v'\n",
    "a = a.split(\",\")\n",
    "print(a)"
   ]
  },
  {
   "cell_type": "code",
   "execution_count": 135,
   "id": "07498f16",
   "metadata": {},
   "outputs": [
    {
     "name": "stdout",
     "output_type": "stream",
     "text": [
      "Gohul Nath V\n"
     ]
    }
   ],
   "source": [
    "#String Concatenation\n",
    "a = \"Gohul\"\n",
    "b = \"Nath\"\n",
    "c = \"V\"\n",
    "print(a+\" \"+b+\" \"+c)"
   ]
  },
  {
   "cell_type": "markdown",
   "id": "d354d558",
   "metadata": {},
   "source": [
    "#### String Formats\n",
    "As we learned in the Python Variables chapter, we cannot combine strings and numbers"
   ]
  },
  {
   "cell_type": "code",
   "execution_count": 140,
   "id": "2094a8b8",
   "metadata": {
    "scrolled": true
   },
   "outputs": [
    {
     "name": "stdout",
     "output_type": "stream",
     "text": [
      "My name is Gohul and age is 23\n",
      "My name is Gohul My age is 23\n",
      "My name is Gohul and age is 23\n"
     ]
    }
   ],
   "source": [
    "name = \"Gohul\"\n",
    "age = str(23)\n",
    "txt = \"My name is Gohul and age is {}\" #format is used to insert int into strings\n",
    "print(txt.format(age))\n",
    "print(\"My name is\",name, \"My age is\",age)\n",
    "print(\"My name is Gohul and age is \"+age)"
   ]
  },
  {
   "cell_type": "markdown",
   "id": "08a4849d",
   "metadata": {},
   "source": [
    "#### Escape Characters\n",
    "To insert characters that are illegal in a string, use an escape character.\n",
    "\n",
    "An escape character is a backslash \\ followed by the character you want to insert.\n",
    "\\'\tSingle Quote\t\n",
    "\\\\\tBackslash\t\n",
    "\\n\tNew Line\t\n",
    "\\r\tCarriage Return\t\n",
    "\\t\tTab\t\n",
    "\\b\tBackspace\t\n",
    "\\f\tForm Feed\t\n",
    "\\ooo\tOctal value\t\n",
    "\\xhh\tHex value"
   ]
  },
  {
   "cell_type": "code",
   "execution_count": 145,
   "id": "55fc045f",
   "metadata": {},
   "outputs": [
    {
     "name": "stdout",
     "output_type": "stream",
     "text": [
      "we're gonna look at the \"Escape Sequence\" in python\n"
     ]
    }
   ],
   "source": [
    "txt = \"we're gonna look at the \\\"Escape Sequence\\\" in python\"\n",
    "print(txt)"
   ]
  },
  {
   "cell_type": "markdown",
   "id": "12a92741",
   "metadata": {},
   "source": [
    "#### String Methods\n",
    "Python has a set of built-in methods that you can use on strings.\n",
    "\n",
    "Note: All string methods returns new values. They do not change the original string"
   ]
  },
  {
   "cell_type": "code",
   "execution_count": 4,
   "id": "4a3f51eb",
   "metadata": {},
   "outputs": [
    {
     "name": "stdout",
     "output_type": "stream",
     "text": [
      "Python is fun!\n",
      "python is fun!\n"
     ]
    }
   ],
   "source": [
    "#string capitalize() method\n",
    "txt =  \"python is FUN!\"\n",
    "a = txt.capitalize() #The capitalize() method returns a string where the first character is upper case, and the rest is lower case.\n",
    "a1 = txt.casefold()\n",
    "print(a)\n",
    "print(a1)"
   ]
  },
  {
   "cell_type": "markdown",
   "id": "2c6c92d7",
   "metadata": {},
   "source": [
    "### Booleans\n",
    "In programming you often need to know if an expression is True or False.\n",
    "\n",
    "You can evaluate any expression in Python, and get one of two answers, True or False.\n",
    "Almost any value is evaluated to True if it has some sort of content.\n",
    "\n",
    "Any string is True, except empty strings.\n",
    "\n",
    "Any number is True, except 0.\n",
    "\n",
    "Any list, tuple, set, and dictionary are True, except empty ones.\n",
    "\n",
    "In fact, there are not many values that evaluate to False, except empty values, such as (), [], {}, \"\", the number 0, and the value None. And of course the value False evaluates to False."
   ]
  },
  {
   "cell_type": "code",
   "execution_count": null,
   "id": "ffec7b18",
   "metadata": {},
   "outputs": [],
   "source": []
  }
 ],
 "metadata": {
  "kernelspec": {
   "display_name": "Python 3 (ipykernel)",
   "language": "python",
   "name": "python3"
  },
  "language_info": {
   "codemirror_mode": {
    "name": "ipython",
    "version": 3
   },
   "file_extension": ".py",
   "mimetype": "text/x-python",
   "name": "python",
   "nbconvert_exporter": "python",
   "pygments_lexer": "ipython3",
   "version": "3.9.7"
  }
 },
 "nbformat": 4,
 "nbformat_minor": 5
}
