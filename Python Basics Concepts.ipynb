{
 "cells": [
  {
   "cell_type": "markdown",
   "id": "0b4e0f6a",
   "metadata": {},
   "source": [
    "# Python Basics"
   ]
  },
  {
   "cell_type": "markdown",
   "id": "538efa81",
   "metadata": {},
   "source": [
    "## Variables"
   ]
  },
  {
   "cell_type": "code",
   "execution_count": 3,
   "id": "35ab1ac2",
   "metadata": {},
   "outputs": [
    {
     "name": "stdout",
     "output_type": "stream",
     "text": [
      "100\n",
      "Gohul\n",
      "<class 'int'>\n",
      "<class 'str'>\n"
     ]
    }
   ],
   "source": [
    "number = 100\n",
    "character = \"Gohul\"\n",
    "print(number)\n",
    "print(character)\n",
    "print(type(number))\n",
    "print(type(character))"
   ]
  },
  {
   "cell_type": "code",
   "execution_count": 8,
   "id": "bc3acf21",
   "metadata": {},
   "outputs": [
    {
     "name": "stdout",
     "output_type": "stream",
     "text": [
      "20\n",
      "20\n",
      "20\n",
      "<class 'int'>\n",
      "<class 'str'>\n",
      "<class 'float'>\n"
     ]
    }
   ],
   "source": [
    "#generally variables are used to store the values such as integer, string and float.\n",
    "a=b=c=20 #multiple values to variables in one line.\n",
    "d=\"Gohul\"\n",
    "e=4.5\n",
    "print(a)\n",
    "print(b)\n",
    "print(c)\n",
    "print(type(a))\n",
    "print(type(d))\n",
    "print(type(e))"
   ]
  },
  {
   "cell_type": "code",
   "execution_count": 11,
   "id": "8384ec75",
   "metadata": {},
   "outputs": [
    {
     "name": "stdout",
     "output_type": "stream",
     "text": [
      "Gohul\n",
      "100\n",
      "3.0\n",
      "<class 'str'>\n",
      "<class 'int'>\n",
      "<class 'float'>\n"
     ]
    }
   ],
   "source": [
    "#casting the variables.\n",
    "x=str(\"Gohul\") #this will be 'Gohul Nath V'\n",
    "y=int(100) #this will be 100\n",
    "z=float(3) #this will be 3\n",
    "print(x)\n",
    "print(y)\n",
    "print(z)\n",
    "print(type(x))\n",
    "print(type(y))\n",
    "print(type(z))"
   ]
  },
  {
   "cell_type": "code",
   "execution_count": 13,
   "id": "52ad2d8c",
   "metadata": {},
   "outputs": [
    {
     "name": "stdout",
     "output_type": "stream",
     "text": [
      "100\n",
      "102\n",
      "202\n"
     ]
    }
   ],
   "source": [
    "#variables are case sensitive\n",
    "a = 100\n",
    "A = 102\n",
    "print(a)\n",
    "print(A)\n",
    "print(a+A)"
   ]
  },
  {
   "cell_type": "code",
   "execution_count": 17,
   "id": "d8c3551a",
   "metadata": {},
   "outputs": [
    {
     "name": "stdout",
     "output_type": "stream",
     "text": [
      "orange\n",
      "mango\n",
      "grapes\n"
     ]
    }
   ],
   "source": [
    "#unpacking the values in variables. simply unpack collections.\n",
    "fruits = [\"orange\",\"mango\",\"grapes\"]\n",
    "x,y,z = fruits\n",
    "print(x)\n",
    "print(y)\n",
    "print(z)"
   ]
  },
  {
   "cell_type": "code",
   "execution_count": 25,
   "id": "434c2f83",
   "metadata": {},
   "outputs": [
    {
     "name": "stdout",
     "output_type": "stream",
     "text": [
      "He is doing awesome work\n",
      "He is doing awesome\n",
      "Python is awesome\n"
     ]
    }
   ],
   "source": [
    "x = 'awesome'\n",
    "print('He is doing',x,'work')\n",
    "print(\"He is doing \"+x)#use the + character to add a variable to another var.\n",
    "print(\"Python is\",x)"
   ]
  },
  {
   "cell_type": "code",
   "execution_count": 29,
   "id": "556b7b93",
   "metadata": {},
   "outputs": [
    {
     "name": "stdout",
     "output_type": "stream",
     "text": [
      "35\n",
      "AdditionAdditionAdditionAdditionAdditionAdditionAdditionAdditionAdditionAdditionAdditionAdditionAdditionAdditionAddition\n"
     ]
    }
   ],
   "source": [
    "x = 15\n",
    "y = 20\n",
    "print(x+y)"
   ]
  },
  {
   "cell_type": "markdown",
   "id": "1e46206f",
   "metadata": {},
   "source": [
    "### Global variables"
   ]
  },
  {
   "cell_type": "code",
   "execution_count": 34,
   "id": "87c4b7ae",
   "metadata": {},
   "outputs": [
    {
     "name": "stdout",
     "output_type": "stream",
     "text": [
      "Python is one of the easiest ones\n",
      "we can also global variable outside the function for eg: easiest ones\n"
     ]
    }
   ],
   "source": [
    "global_variable = \"easiest ones\" #Create a variable outside of a function, and use it inside the function\n",
    "def myfunc():\n",
    "    print(\"Python is one of the \"+global_variable)\n",
    "myfunc()\n",
    "print(\"we can also global variable outside the function for eg: \"+global_variable)"
   ]
  },
  {
   "cell_type": "code",
   "execution_count": 35,
   "id": "5b9ce484",
   "metadata": {},
   "outputs": [
    {
     "name": "stdout",
     "output_type": "stream",
     "text": [
      "Python is fantastic\n",
      "Python is awesome\n"
     ]
    }
   ],
   "source": [
    "x = \"awesome\"\n",
    "\n",
    "def myfunc():\n",
    "  x = \"fantastic\" #Create a variable inside a function, with the same name as the global variable\n",
    "  print(\"Python is \" + x) \n",
    "\n",
    "myfunc()\n",
    "\n",
    "print(\"Python is \" + x)"
   ]
  },
  {
   "cell_type": "markdown",
   "id": "606ec9c1",
   "metadata": {},
   "source": [
    "## Data Types"
   ]
  },
  {
   "cell_type": "markdown",
   "id": "1226dc88",
   "metadata": {},
   "source": [
    "#### Built-in Data Types\n",
    "In programming, data type is an important concept.\n",
    "\n",
    "Variables can store data of different types, and different types can do different things.\n",
    "\n",
    "Python has the following data types built-in by default, in these categories:\n",
    "\n",
    "Text Type:\tstr\n",
    "Numeric Types:\tint, float, complex\n",
    "Sequence Types:\tlist, tuple, range\n",
    "Mapping Type:\tdict\n",
    "Set Types:\tset, frozenset\n",
    "Boolean Type:\tbool\n",
    "Binary Types:\tbytes, bytearray, memoryview"
   ]
  },
  {
   "cell_type": "code",
   "execution_count": 46,
   "id": "08ea54cf",
   "metadata": {},
   "outputs": [
    {
     "name": "stdout",
     "output_type": "stream",
     "text": [
      "<class 'str'>\n",
      "<class 'int'>\n",
      "<class 'float'>\n",
      "<class 'complex'>\n",
      "<class 'list'>\n",
      "<class 'tuple'>\n",
      "<class 'range'>\n",
      "<class 'dict'>\n",
      "<class 'set'>\n",
      "<class 'frozenset'>\n",
      "<class 'bool'>\n",
      "<class 'bytes'>\n",
      "<class 'bytearray'>\n",
      "<class 'memoryview'>\n",
      "bytearray(b'\\x00\\x00')\n",
      "<memory at 0x000002369B6F9400>\n"
     ]
    }
   ],
   "source": [
    "#getting the data type\n",
    "x = \"String Type\"\n",
    "y = 20\n",
    "z = 20.5 #Float can also be scientific numbers with an \"e\" to indicate the power of 10.\n",
    "a = 1+3j\n",
    "b = [\"list 1\", \"list 2\", \"list 3\"]\n",
    "c = (\"tupe 1\",\"tuple 2\",\"tuple 3\")\n",
    "d = range(6)\n",
    "e = {\"name\":\"Gohul\", \"age\":23}\n",
    "f = {\"Hello\",\"how\",\"are\",\"you ?\"}\n",
    "g = frozenset({\"Great\",\"Learning\",\"Curve\"})\n",
    "h =  True\n",
    "i = b\"bytes\"\n",
    "j = bytearray(2)\n",
    "k = memoryview(bytes(2))\n",
    "print(type(x))\n",
    "print(type(y))\n",
    "print(type(z))\n",
    "print(type(a))\n",
    "print(type(b))\n",
    "print(type(c))\n",
    "print(type(d))\n",
    "print(type(e))\n",
    "print(type(f))\n",
    "print(type(g))\n",
    "print(type(h))\n",
    "print(type(i))\n",
    "print(type(j))\n",
    "print(type(k))"
   ]
  },
  {
   "cell_type": "code",
   "execution_count": 48,
   "id": "598db015",
   "metadata": {},
   "outputs": [
    {
     "name": "stdout",
     "output_type": "stream",
     "text": [
      "30\n",
      "Gohul\n",
      "<class 'int'>\n",
      "<class 'str'>\n"
     ]
    }
   ],
   "source": [
    "#setting the specific data type\n",
    "x = int(30)\n",
    "y=str(\"Gohul\")\n",
    "print(x)\n",
    "print(y)\n",
    "print(type(x))\n",
    "print(type(y))"
   ]
  },
  {
   "cell_type": "code",
   "execution_count": 51,
   "id": "e30917db",
   "metadata": {},
   "outputs": [
    {
     "name": "stdout",
     "output_type": "stream",
     "text": [
      "<class 'int'>\n",
      "<class 'float'>\n",
      "<class 'int'>\n"
     ]
    }
   ],
   "source": [
    "#we can convert data types.\n",
    "x = int(2.4)\n",
    "y = 2.14\n",
    "z=int(y)\n",
    "print(type(x))\n",
    "print(type(y))\n",
    "print(type(z))"
   ]
  },
  {
   "cell_type": "markdown",
   "id": "3206d780",
   "metadata": {},
   "source": [
    "#### Random Number\n",
    "Python does not have a random() function to make a random number, but Python has a built-in module called random that can be used to make random numbers:"
   ]
  },
  {
   "cell_type": "code",
   "execution_count": 66,
   "id": "8148456e",
   "metadata": {},
   "outputs": [
    {
     "name": "stdout",
     "output_type": "stream",
     "text": [
      "3\n"
     ]
    }
   ],
   "source": [
    "import random\n",
    "print(random.randrange(1,5))"
   ]
  },
  {
   "cell_type": "code",
   "execution_count": 68,
   "id": "178ba44a",
   "metadata": {},
   "outputs": [
    {
     "ename": "NameError",
     "evalue": "name 'Gohul' is not defined",
     "output_type": "error",
     "traceback": [
      "\u001b[1;31m---------------------------------------------------------------------------\u001b[0m",
      "\u001b[1;31mNameError\u001b[0m                                 Traceback (most recent call last)",
      "\u001b[1;32mC:\\Users\\GOHULN~1\\AppData\\Local\\Temp/ipykernel_13464/755374457.py\u001b[0m in \u001b[0;36m<module>\u001b[1;34m\u001b[0m\n\u001b[1;32m----> 1\u001b[1;33m \u001b[0mx\u001b[0m \u001b[1;33m=\u001b[0m \u001b[0mstr\u001b[0m\u001b[1;33m(\u001b[0m\u001b[0mGohul\u001b[0m\u001b[1;33m)\u001b[0m\u001b[1;33m\u001b[0m\u001b[1;33m\u001b[0m\u001b[0m\n\u001b[0m\u001b[0;32m      2\u001b[0m \u001b[0mprint\u001b[0m\u001b[1;33m(\u001b[0m\u001b[0mx\u001b[0m\u001b[1;33m)\u001b[0m\u001b[1;33m\u001b[0m\u001b[1;33m\u001b[0m\u001b[0m\n",
      "\u001b[1;31mNameError\u001b[0m: name 'Gohul' is not defined"
     ]
    }
   ],
   "source": []
  },
  {
   "cell_type": "markdown",
   "id": "95bfd34d",
   "metadata": {},
   "source": [
    "#### Python Strings\n",
    "Strings are Arrays\n",
    "Like many other popular programming languages, strings in Python are arrays of bytes representing unicode characters.\n",
    "\n",
    "However, Python does not have a character data type, a single character is simply a string with a length of 1.\n",
    "\n",
    "Square brackets can be used to access elements of the string."
   ]
  },
  {
   "cell_type": "code",
   "execution_count": 78,
   "id": "0b8b4e8c",
   "metadata": {},
   "outputs": [
    {
     "name": "stdout",
     "output_type": "stream",
     "text": [
      "G o h u l\n",
      "o\n",
      "h\n",
      "u\n",
      "l\n",
      " \n",
      "N\n",
      "a\n",
      "t\n",
      "h\n",
      " \n",
      "V\n"
     ]
    }
   ],
   "source": [
    "b = \"Gohul Nath V\"\n",
    "print(b[0],b[1],b[2],b[3],b[4])\n",
    "print(b[1])\n",
    "print(b[2])\n",
    "print(b[3])\n",
    "print(b[4])\n",
    "print(b[5])\n",
    "print(b[6])\n",
    "print(b[7])\n",
    "print(b[8])\n",
    "print(b[9])\n",
    "print(b[10])\n",
    "print(b[11])\n"
   ]
  },
  {
   "cell_type": "code",
   "execution_count": 86,
   "id": "0ef06e04",
   "metadata": {},
   "outputs": [
    {
     "name": "stdout",
     "output_type": "stream",
     "text": [
      "H\n",
      "i\n",
      " \n",
      "G\n",
      "u\n",
      "y\n",
      "s\n"
     ]
    }
   ],
   "source": [
    "#Looping Through a String\n",
    "for x in \"Hi Guys\":\n",
    "    print(x)"
   ]
  },
  {
   "cell_type": "code",
   "execution_count": 92,
   "id": "bb95bec2",
   "metadata": {},
   "outputs": [
    {
     "name": "stdout",
     "output_type": "stream",
     "text": [
      "False\n",
      "Yes, 'easy' is found in your text\n",
      "It is easyyy\n"
     ]
    }
   ],
   "source": [
    "#check string\n",
    "txt = \"Python is easy to learn!\"\n",
    "print(\"free\" in txt)\n",
    "#print only if \"easy\" is\n",
    "if \"easy\" in txt:\n",
    "    print(\"Yes, 'easy' is found in your text\")\n",
    "#To check if a certain phrase or character is NOT present in a string, we can use the keyword not in.\n",
    "if \"hard\" not in txt:\n",
    "    print(\"It is easyyy\")"
   ]
  },
  {
   "cell_type": "markdown",
   "id": "59849952",
   "metadata": {},
   "source": [
    "### String operations"
   ]
  },
  {
   "cell_type": "markdown",
   "id": "9922b016",
   "metadata": {},
   "source": [
    "#### Slicing\n",
    "You can return a range of characters by using the slice syntax.\n",
    "\n",
    "Specify the start index and the end index, separated by a colon, to return a part of the string.\n",
    "Note: The first character has index 0."
   ]
  },
  {
   "cell_type": "code",
   "execution_count": 111,
   "id": "dcce7bbf",
   "metadata": {},
   "outputs": [
    {
     "name": "stdout",
     "output_type": "stream",
     "text": [
      "Gohul\n",
      "GohulNathV\n",
      "GohulNathV\n",
      "Gohul\n",
      "hulNathV\n",
      "GohulNath\n",
      "GohulNat\n",
      "V\n",
      "<class 'str'>\n"
     ]
    }
   ],
   "source": [
    "#Get the characters from position 0 to position 6 (not included):\n",
    "name = 'GohulNathV'\n",
    "print(name[0:5])\n",
    "print(name[:])\n",
    "print(name[0:])\n",
    "print(name[:5]) #slice from start\n",
    "print(name[2:]) #get from position 2\n",
    "print(name[:-1])\n",
    "print(name[:-2])\n",
    "print(name[-1])\n",
    "print(type(name))"
   ]
  },
  {
   "cell_type": "code",
   "execution_count": 127,
   "id": "48ce51db",
   "metadata": {},
   "outputs": [
    {
     "name": "stdout",
     "output_type": "stream",
     "text": [
      " GOHUL NATH V \n",
      " gohul nath v \n",
      " Gohul Nath V \n",
      "14\n",
      "Gohul Nath V\n",
      "12\n",
      "Gokul nath v\n",
      "Gohul Nath V\n"
     ]
    }
   ],
   "source": [
    "#String Modifications.\n",
    "a = \" Gohul Nath V \"\n",
    "print(a.upper())\n",
    "print(a.lower())\n",
    "\n",
    "print(a)\n",
    "print(len(a))\n",
    "\n",
    "print(a.strip()) #to remove whitespace\n",
    "a= a.strip()\n",
    "print(len(a))\n",
    "\n",
    "#replace string with another\n",
    "a= \"Gokul nath v\"\n",
    "print(a)\n",
    "a=a.replace(\"k\",\"h\")\n",
    "a=a.replace(\"n\",\"N\")\n",
    "a=a.replace(\"v\",\"V\")\n",
    "print(a)\n"
   ]
  },
  {
   "cell_type": "code",
   "execution_count": 129,
   "id": "9783d899",
   "metadata": {},
   "outputs": [
    {
     "name": "stdout",
     "output_type": "stream",
     "text": [
      "['Gohul Nath v']\n"
     ]
    }
   ],
   "source": [
    "#split string\n",
    "a = 'Gohul Nath v'\n",
    "a = a.split(\",\")\n",
    "print(a)"
   ]
  },
  {
   "cell_type": "code",
   "execution_count": null,
   "id": "e654aa11",
   "metadata": {},
   "outputs": [],
   "source": []
  }
 ],
 "metadata": {
  "kernelspec": {
   "display_name": "Python 3 (ipykernel)",
   "language": "python",
   "name": "python3"
  },
  "language_info": {
   "codemirror_mode": {
    "name": "ipython",
    "version": 3
   },
   "file_extension": ".py",
   "mimetype": "text/x-python",
   "name": "python",
   "nbconvert_exporter": "python",
   "pygments_lexer": "ipython3",
   "version": "3.9.7"
  }
 },
 "nbformat": 4,
 "nbformat_minor": 5
}
